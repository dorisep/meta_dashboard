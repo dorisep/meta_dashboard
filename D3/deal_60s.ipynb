{
 "cells": [
  {
   "cell_type": "code",
   "execution_count": 1,
   "id": "28b6f491",
   "metadata": {},
   "outputs": [],
   "source": [
    "import sqlite3\n",
    "conn = sqlite3.connect(\"meta_music.db\")\n",
    "cur = conn.cursor()"
   ]
  },
  {
   "cell_type": "code",
   "execution_count": 2,
   "id": "bfa8c43a",
   "metadata": {},
   "outputs": [
    {
     "data": {
      "text/plain": [
       "<function Connection.commit>"
      ]
     },
     "execution_count": 2,
     "metadata": {},
     "output_type": "execute_result"
    }
   ],
   "source": [
    "sql_command = '''INSERT INTO albums (\n",
    "artist, \n",
    "album, date, \n",
    "week_num, \n",
    "meta_score, \n",
    "user_score, \n",
    "album_img, \n",
    "crit_rev_num, \n",
    "user_rev_num, \n",
    "record_label, \n",
    "album_genre, \n",
    "album_year) \n",
    "VALUES \n",
    "(\"Cranberries\", \"Roses\", \"Februrary 28, 2012\", 10, 59, 77, \"none\", 12, 21, \"RCA\", \"Alternative\", 2012)'''\n",
    "cur.execute(sql_command)\n",
    "conn.commit()"
   ]
  },
  {
   "cell_type": "code",
   "execution_count": 6,
   "id": "4e6e98a0",
   "metadata": {},
   "outputs": [
    {
     "data": {
      "text/plain": [
       "[]"
      ]
     },
     "execution_count": 6,
     "metadata": {},
     "output_type": "execute_result"
    }
   ],
   "source": [
    "cur.execute('select * from albums where artist = \"Snoop Dog\"').fetchall()"
   ]
  },
  {
   "cell_type": "code",
   "execution_count": 10,
   "id": "3f1f2776",
   "metadata": {},
   "outputs": [],
   "source": [
    "sql_stmnt = '''INSERT INTO albums (\n",
    "artist, \n",
    "album, date, \n",
    "week_num, \n",
    "meta_score, \n",
    "user_score, \n",
    "album_img, \n",
    "crit_rev_num, \n",
    "user_rev_num, \n",
    "record_label, \n",
    "album_genre, \n",
    "album_year) \n",
    "VALUES \n",
    "(\"Snoop Dogg\", \"Doggumentary\", \"March 29, 2011\", 10, 58, 64, \"none\", 15, 31, \"Doggystyle Records\", \"rap\", 2011),\n",
    "(\"Justin Timberlake\", \"The 20/20 Exprience 2 of 2\", \"September 30, 2013\", 10, 60, 82, \"none\", 27, 348, \"RCA\", \"pop/rock\", 2013),\n",
    "(\"Cold War Kids\", \"Hold My Home\", \"Oct 21, 2014\", 10, 55, 76, \"none\", 7, 10, \"Downtown\", \"Indie Rock\", 2014),\n",
    "(\"R. Kelly\", \"The Buffet\", \"December 11, 2015\", 10, 60, 57, \"none\", 9, 13, \"RCA\", \"R&B\", 2015),\n",
    "(\"Gwen Stefani\", \"This is What The Truth Feels Like\", \"Mar 18, 2016\", 10, 62, 79, \"none\", 16, 186, \"Interscope\", \"Pop\", 2016),\n",
    "(\"Halsey\", \"Hopeless Fountain Kingdom\", \"Jun 2, 2017\", 10, 66, 82, \"none\", 10, 591, \"Astralwerks\", \"pop/rock\", 2017);'''\n",
    "\n",
    "cur.execute(sql_stmnt)\n",
    "conn.commit()"
   ]
  },
  {
   "cell_type": "code",
   "execution_count": 22,
   "id": "c08b8d1f",
   "metadata": {},
   "outputs": [],
   "source": [
    "conn.close()\n",
    "(\"Cranberries\", \"Roses\", \"Februrary 28, 2012\", 10, 59, 77, \"none\", 12, 21, \"RCA\", \"Alternative\", 2012)'''"
   ]
  },
  {
   "cell_type": "code",
   "execution_count": null,
   "id": "8bb285dc",
   "metadata": {},
   "outputs": [],
   "source": [
    "'INSERT INTO albums (aritst, album, date, week_num, meta_score, user_score, album_img, crit_rev_num, user_rev_num, record_label, album_genre, album_year) VALUES (\"Snoop Dogg\", \"Doggumentary\", \"March 29, 2011\", 58, 64, \"none\", 15, 31, \"Doggystyle Records\", \"rap\", 2011)'\n"
   ]
  }
 ],
 "metadata": {
  "kernelspec": {
   "display_name": "Python 3",
   "language": "python",
   "name": "python3"
  },
  "language_info": {
   "codemirror_mode": {
    "name": "ipython",
    "version": 3
   },
   "file_extension": ".py",
   "mimetype": "text/x-python",
   "name": "python",
   "nbconvert_exporter": "python",
   "pygments_lexer": "ipython3",
   "version": "3.8.8"
  }
 },
 "nbformat": 4,
 "nbformat_minor": 5
}
